{
  "nbformat": 4,
  "nbformat_minor": 0,
  "metadata": {
    "colab": {
      "provenance": [],
      "include_colab_link": true
    },
    "kernelspec": {
      "name": "python3",
      "display_name": "Python 3"
    },
    "language_info": {
      "name": "python"
    }
  },
  "cells": [
    {
      "cell_type": "markdown",
      "metadata": {
        "id": "view-in-github",
        "colab_type": "text"
      },
      "source": [
        "<a href=\"https://colab.research.google.com/github/gabrielarabelo/data_science/blob/main/funcao_matriz_par_a_par.ipynb\" target=\"_parent\"><img src=\"https://colab.research.google.com/assets/colab-badge.svg\" alt=\"Open In Colab\"/></a>"
      ]
    },
    {
      "cell_type": "markdown",
      "source": [
        "# Função para Criação de Matriz par a par\n",
        "---\n",
        "\n",
        "Adaptado a partir do artigo: [Deep dive into Analytical Hierarchy Process using Python (Anirudh Chandra)](https://archive.is/6PLXj)"
      ],
      "metadata": {
        "id": "gwOwOk6vVRvl"
      }
    },
    {
      "cell_type": "code",
      "source": [
        "# Função para gerar Matriz de Comparação par a par a partir de uma Lista de Strings\n",
        "import numpy as np\n",
        "\n",
        "# Criando a Função\n",
        "def pairwise_matrix(var_list):\n",
        "  n = len(var_list)\n",
        "  A = np.ones([n,n])\n",
        "  for i in range(0,n):\n",
        "    for j in range(0,n):\n",
        "      if i<j:\n",
        "        opi = var_list[i]\n",
        "        opj = var_list[j]\n",
        "        aij = input('Qual a importância de {} em relação a {} ?: '.format(opi,opj))\n",
        "        A[i,j] = float(aij)   # triângulo superior\n",
        "        A[j,i] = 1/float(aij) # triângulo inferior\n",
        "\n",
        "  # Computa o vetor de prioridade\n",
        "  eig_val = np.linalg.eig(A)[0].max()\n",
        "  eig_vec = np.linalg.eig(A)[1][:,0]\n",
        "  p = eig_vec/eig_vec.sum()\n",
        "\n",
        "  # Mostrar Matriz Gerada:\n",
        "  print('---------------------')\n",
        "  print('Matriz de Comparação Par a Par:')\n",
        "  print(A)\n",
        "  print('---------------------')\n",
        "  print('Autovalor (Eigenvalue)')\n",
        "  print(eig_val)\n",
        "  print('Autovetor (Eigenvector)')\n",
        "  print(eig_vec)\n",
        "  print('Autovetor normalizado')\n",
        "  print(p)\n",
        "\n",
        "  return A, p, eig_val"
      ],
      "metadata": {
        "id": "i-fJ3yOB6dzp"
      },
      "execution_count": 5,
      "outputs": []
    },
    {
      "cell_type": "code",
      "source": [
        "# Criar Variável\n",
        "parametros = ['Item1','Item2','Item3']\n",
        "\n",
        "A, p, eig_val = pairwise_matrix(parametros)"
      ],
      "metadata": {
        "colab": {
          "base_uri": "https://localhost:8080/"
        },
        "id": "ljDA2hu2tDzs",
        "outputId": "9dec1d55-5108-43b4-8025-60aff2a99e04"
      },
      "execution_count": 12,
      "outputs": [
        {
          "output_type": "stream",
          "name": "stdout",
          "text": [
            "Qual a importância de Item1 em relação a Item2 ?: 2\n",
            "Qual a importância de Item1 em relação a Item3 ?: 4\n",
            "Qual a importância de Item2 em relação a Item3 ?: 6\n",
            "---------------------\n",
            "Matriz de Comparação Par a Par:\n",
            "[[1.         2.         4.        ]\n",
            " [0.5        1.         6.        ]\n",
            " [0.25       0.16666667 1.        ]]\n",
            "---------------------\n",
            "Autovalor (Eigenvalue)\n",
            "(3.135610844658043+0j)\n",
            "---------------------\n",
            "Autovetor (Eigenvector)\n",
            "[0.80320176+0.j 0.57920869+0.j 0.13922725+0.j]\n",
            "---------------------\n",
            "Autovetor normalizado\n",
            "[0.52785348+0.j 0.38064823+0.j 0.09149829+0.j]\n"
          ]
        }
      ]
    },
    {
      "cell_type": "code",
      "source": [
        "# Extra: Plot\n",
        "import seaborn as sns\n",
        "sns.heatmap(A, annot = True, xticklabels=parametros, yticklabels=parametros, cmap=\"Spectral\")"
      ],
      "metadata": {
        "colab": {
          "base_uri": "https://localhost:8080/",
          "height": 452
        },
        "id": "nBtCYMLCN8v3",
        "outputId": "1f80214b-e1a6-4c52-e922-fb8cf64b3508"
      },
      "execution_count": 13,
      "outputs": [
        {
          "output_type": "execute_result",
          "data": {
            "text/plain": [
              "<Axes: >"
            ]
          },
          "metadata": {},
          "execution_count": 13
        },
        {
          "output_type": "display_data",
          "data": {
            "text/plain": [
              "<Figure size 640x480 with 2 Axes>"
            ],
            "image/png": "[encoded data removed]"
          },
          "metadata": {}
        }
      ]
    }
  ]
}